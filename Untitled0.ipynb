{
  "nbformat": 4,
  "nbformat_minor": 0,
  "metadata": {
    "colab": {
      "name": "Untitled0.ipynb",
      "version": "0.3.2",
      "provenance": [],
      "collapsed_sections": [],
      "include_colab_link": true
    },
    "kernelspec": {
      "name": "python3",
      "display_name": "Python 3"
    }
  },
  "cells": [
    {
      "cell_type": "markdown",
      "metadata": {
        "id": "view-in-github",
        "colab_type": "text"
      },
      "source": [
        "<a href=\"https://colab.research.google.com/github/mohanapps/aispwa/blob/master/Untitled0.ipynb\" target=\"_parent\"><img src=\"https://colab.research.google.com/assets/colab-badge.svg\" alt=\"Open In Colab\"/></a>"
      ]
    },
    {
      "metadata": {
        "id": "2_0XMPoCVjTR",
        "colab_type": "text"
      },
      "cell_type": "markdown",
      "source": [
        "Constant and placeholder usage"
      ]
    },
    {
      "metadata": {
        "id": "ao4Go83AQ75Q",
        "colab_type": "code",
        "colab": {}
      },
      "cell_type": "code",
      "source": [
        "import tensorflow as tf\n",
        "\n",
        "node1 = tf.constant([1.0,2.0,3.0,4.0])\n",
        "node2 = tf.constant([1.0,2.0,3.0,4.0])\n",
        "print(node1)\n",
        "sess = tf.Session()\n",
        "print(sess.run(node1 * node2))\n",
        "\n",
        "a = tf.placeholder(tf.float32)\n",
        "b = tf.placeholder(tf.float32)\n",
        "\n",
        "adder_node = a+b\n",
        "\n",
        "print(sess.run(adder_node,{a:[1,5],b:[2,3]}))\n"
      ],
      "execution_count": 0,
      "outputs": []
    },
    {
      "metadata": {
        "id": "f3IR5o_JnJ6o",
        "colab_type": "code",
        "colab": {
          "base_uri": "https://localhost:8080/",
          "height": 34
        },
        "outputId": "bc45d1e7-a04d-4ceb-c4fb-85df8a02ed3b"
      },
      "cell_type": "code",
      "source": [
        "import tensorflow as tf\n",
        "W = tf.Variable(1,tf.int32)\n",
        "x = tf.placeholder(tf.int32)\n",
        "y = tf.placeholder(tf.int32)\n",
        "\n",
        "model = (2*x + 1) * W\n",
        "\n",
        "init = tf.global_variables_initializer()\n",
        "\n",
        "sess = tf.Session()\n",
        "\n",
        "sess.run(init)\n",
        "\n",
        "print(sess.run(model,{x:[0,1,2,3],y:[4,12,20,28]}))\n"
      ],
      "execution_count": 21,
      "outputs": [
        {
          "output_type": "stream",
          "text": [
            "[1 3 5 7]\n"
          ],
          "name": "stdout"
        }
      ]
    }
  ]
}